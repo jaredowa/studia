{
  "cells": [
    {
      "cell_type": "markdown",
      "metadata": {
        "id": "view-in-github",
        "colab_type": "text"
      },
      "source": [
        "<a href=\"https://colab.research.google.com/github/jaredowa/studia/blob/main/PAD_02_wprowadzenie_do_Pythona_cwiczenia_i_praca_domowa_rozwiazania.ipynb\" target=\"_parent\"><img src=\"https://colab.research.google.com/assets/colab-badge.svg\" alt=\"Open In Colab\"/></a>"
      ]
    },
    {
      "cell_type": "markdown",
      "metadata": {
        "id": "YBf77-O2VMaK"
      },
      "source": [
        "## iterator"
      ]
    },
    {
      "cell_type": "code",
      "execution_count": 71,
      "metadata": {
        "id": "MobBtdWEVEu1",
        "colab": {
          "base_uri": "https://localhost:8080/",
          "height": 53
        },
        "outputId": "e48a3c44-050c-4093-dc8e-3215e863b56d"
      },
      "outputs": [
        {
          "output_type": "execute_result",
          "data": {
            "text/plain": [
              "'\\nZadanie 1\\nZaimplementuj własny iterator o nazwie tetranacci, zwracający kolejne liczby ciągu Tetranacciego.\\nFunkcja __init__ powinna posiadać parametr o nazwie steps określający liczbę wyrazów ciągu,\\npo których funkcja __next__ rzuca wyjątek StopIteration.\\nNapisz program, w którym wykorzystasz swój iterator do wypisania na ekranie kolejnych wyrazów tego ciągu.\\nNiech liczbę wyrazów do wypisania podaje użytkownik.\\n\\n'"
            ],
            "application/vnd.google.colaboratory.intrinsic+json": {
              "type": "string"
            }
          },
          "metadata": {},
          "execution_count": 71
        }
      ],
      "source": [
        "'''\n",
        "Zadanie 1\n",
        "Zaimplementuj własny iterator o nazwie tetranacci, zwracający kolejne liczby ciągu Tetranacciego.\n",
        "Funkcja __init__ powinna posiadać parametr o nazwie steps określający liczbę wyrazów ciągu,\n",
        "po których funkcja __next__ rzuca wyjątek StopIteration.\n",
        "Napisz program, w którym wykorzystasz swój iterator do wypisania na ekranie kolejnych wyrazów tego ciągu.\n",
        "Niech liczbę wyrazów do wypisania podaje użytkownik.\n",
        "\n",
        "'''"
      ]
    },
    {
      "cell_type": "code",
      "execution_count": 72,
      "metadata": {
        "id": "zkS3yeVFeYCC",
        "colab": {
          "base_uri": "https://localhost:8080/"
        },
        "outputId": "95106a80-0950-4f32-b71d-111407abed1b"
      },
      "outputs": [
        {
          "output_type": "stream",
          "name": "stdout",
          "text": [
            "0\n",
            "0\n",
            "0\n",
            "1\n",
            "1\n",
            "2\n",
            "4\n",
            "8\n",
            "15\n",
            "29\n"
          ]
        }
      ],
      "source": [
        "class Tetranacci:\n",
        "    def __init__(self, steps):\n",
        "        self.steps = steps\n",
        "        self.counter = 0\n",
        "        self.values = [0, 0, 0, 1]\n",
        "\n",
        "    def __iter__(self):\n",
        "        return self\n",
        "\n",
        "    def __next__(self):\n",
        "        if self.counter < self.steps:\n",
        "            self.counter += 1\n",
        "            if self.counter <= 4:\n",
        "                return self.values[self.counter-1]\n",
        "            else:\n",
        "                next_value = sum(self.values)\n",
        "                self.values = self.values[1:] + [next_value]\n",
        "                return next_value\n",
        "        else:\n",
        "            raise StopIteration\n",
        "\n",
        "steps = 10\n",
        "tet = Tetranacci(steps)\n",
        "for value in tet:\n",
        "    print(value)"
      ]
    },
    {
      "cell_type": "code",
      "execution_count": 73,
      "metadata": {
        "id": "NH0QDHbBeYCC",
        "outputId": "dc5a61ab-c89d-4a37-af17-86fd75634fc8",
        "colab": {
          "base_uri": "https://localhost:8080/",
          "height": 418
        }
      },
      "outputs": [
        {
          "output_type": "stream",
          "name": "stdout",
          "text": [
            "0\n",
            "0\n",
            "0\n",
            "1\n",
            "1\n"
          ]
        },
        {
          "output_type": "error",
          "ename": "StopIteration",
          "evalue": "ignored",
          "traceback": [
            "\u001b[0;31m---------------------------------------------------------------------------\u001b[0m",
            "\u001b[0;31mStopIteration\u001b[0m                             Traceback (most recent call last)",
            "\u001b[0;32m<ipython-input-73-a5bbfa020c02>\u001b[0m in \u001b[0;36m<cell line: 8>\u001b[0;34m()\u001b[0m\n\u001b[1;32m      6\u001b[0m \u001b[0mprint\u001b[0m\u001b[0;34m(\u001b[0m\u001b[0mnext\u001b[0m\u001b[0;34m(\u001b[0m\u001b[0mtet\u001b[0m\u001b[0;34m)\u001b[0m\u001b[0;34m)\u001b[0m\u001b[0;34m\u001b[0m\u001b[0;34m\u001b[0m\u001b[0m\n\u001b[1;32m      7\u001b[0m \u001b[0mprint\u001b[0m\u001b[0;34m(\u001b[0m\u001b[0mnext\u001b[0m\u001b[0;34m(\u001b[0m\u001b[0mtet\u001b[0m\u001b[0;34m)\u001b[0m\u001b[0;34m)\u001b[0m\u001b[0;34m\u001b[0m\u001b[0;34m\u001b[0m\u001b[0m\n\u001b[0;32m----> 8\u001b[0;31m \u001b[0mprint\u001b[0m\u001b[0;34m(\u001b[0m\u001b[0mnext\u001b[0m\u001b[0;34m(\u001b[0m\u001b[0mtet\u001b[0m\u001b[0;34m)\u001b[0m\u001b[0;34m)\u001b[0m\u001b[0;34m\u001b[0m\u001b[0;34m\u001b[0m\u001b[0m\n\u001b[0m",
            "\u001b[0;32m<ipython-input-72-20ff65fed2ab>\u001b[0m in \u001b[0;36m__next__\u001b[0;34m(self)\u001b[0m\n\u001b[1;32m     18\u001b[0m                 \u001b[0;32mreturn\u001b[0m \u001b[0mnext_value\u001b[0m\u001b[0;34m\u001b[0m\u001b[0;34m\u001b[0m\u001b[0m\n\u001b[1;32m     19\u001b[0m         \u001b[0;32melse\u001b[0m\u001b[0;34m:\u001b[0m\u001b[0;34m\u001b[0m\u001b[0;34m\u001b[0m\u001b[0m\n\u001b[0;32m---> 20\u001b[0;31m             \u001b[0;32mraise\u001b[0m \u001b[0mStopIteration\u001b[0m\u001b[0;34m\u001b[0m\u001b[0;34m\u001b[0m\u001b[0m\n\u001b[0m\u001b[1;32m     21\u001b[0m \u001b[0;34m\u001b[0m\u001b[0m\n\u001b[1;32m     22\u001b[0m \u001b[0msteps\u001b[0m \u001b[0;34m=\u001b[0m \u001b[0;36m10\u001b[0m\u001b[0;34m\u001b[0m\u001b[0;34m\u001b[0m\u001b[0m\n",
            "\u001b[0;31mStopIteration\u001b[0m: "
          ]
        }
      ],
      "source": [
        "steps = 5\n",
        "tet = Tetranacci(steps)\n",
        "print(next(tet))\n",
        "print(next(tet))\n",
        "print(next(tet))\n",
        "print(next(tet))\n",
        "print(next(tet))\n",
        "print(next(tet))"
      ]
    },
    {
      "cell_type": "code",
      "execution_count": 74,
      "metadata": {
        "id": "Dwrsh9mTeYCD",
        "outputId": "0c8340c6-8d5d-4afe-a34f-c8debe4477f5",
        "colab": {
          "base_uri": "https://localhost:8080/",
          "height": 279
        }
      },
      "outputs": [
        {
          "output_type": "stream",
          "name": "stdout",
          "text": [
            "1\n",
            "2\n",
            "3\n",
            "4\n"
          ]
        },
        {
          "output_type": "error",
          "ename": "StopIteration",
          "evalue": "ignored",
          "traceback": [
            "\u001b[0;31m---------------------------------------------------------------------------\u001b[0m",
            "\u001b[0;31mStopIteration\u001b[0m                             Traceback (most recent call last)",
            "\u001b[0;32m<ipython-input-74-bde70500b5d1>\u001b[0m in \u001b[0;36m<cell line: 6>\u001b[0;34m()\u001b[0m\n\u001b[1;32m      4\u001b[0m \u001b[0mprint\u001b[0m\u001b[0;34m(\u001b[0m\u001b[0mnext\u001b[0m\u001b[0;34m(\u001b[0m\u001b[0miterator_1\u001b[0m\u001b[0;34m)\u001b[0m\u001b[0;34m)\u001b[0m\u001b[0;34m\u001b[0m\u001b[0;34m\u001b[0m\u001b[0m\n\u001b[1;32m      5\u001b[0m \u001b[0mprint\u001b[0m\u001b[0;34m(\u001b[0m\u001b[0mnext\u001b[0m\u001b[0;34m(\u001b[0m\u001b[0miterator_1\u001b[0m\u001b[0;34m)\u001b[0m\u001b[0;34m)\u001b[0m\u001b[0;34m\u001b[0m\u001b[0;34m\u001b[0m\u001b[0m\n\u001b[0;32m----> 6\u001b[0;31m \u001b[0mprint\u001b[0m\u001b[0;34m(\u001b[0m\u001b[0mnext\u001b[0m\u001b[0;34m(\u001b[0m\u001b[0miterator_1\u001b[0m\u001b[0;34m)\u001b[0m\u001b[0;34m)\u001b[0m\u001b[0;34m\u001b[0m\u001b[0;34m\u001b[0m\u001b[0m\n\u001b[0m",
            "\u001b[0;31mStopIteration\u001b[0m: "
          ]
        }
      ],
      "source": [
        "iterator_1 = iter([1,2,3,4])\n",
        "print(next(iterator_1))\n",
        "print(next(iterator_1))\n",
        "print(next(iterator_1))\n",
        "print(next(iterator_1))\n",
        "print(next(iterator_1))"
      ]
    },
    {
      "cell_type": "markdown",
      "metadata": {
        "id": "HgA0kNjTVXwG"
      },
      "source": [
        "## generator"
      ]
    },
    {
      "cell_type": "code",
      "execution_count": 75,
      "metadata": {
        "id": "hl3BhofyVdoH",
        "colab": {
          "base_uri": "https://localhost:8080/",
          "height": 35
        },
        "outputId": "3b377dbf-5d6f-4a9c-d319-174d6e7c5fb6"
      },
      "outputs": [
        {
          "output_type": "execute_result",
          "data": {
            "text/plain": [
              "'\\nZadanie 2\\nZaimplementuj własny generator o nazwie accumulate,\\nzwracający kolejne sumy elementów z podanego obiektu iterowalnego.\\n'"
            ],
            "application/vnd.google.colaboratory.intrinsic+json": {
              "type": "string"
            }
          },
          "metadata": {},
          "execution_count": 75
        }
      ],
      "source": [
        "'''\n",
        "Zadanie 2\n",
        "Zaimplementuj własny generator o nazwie accumulate,\n",
        "zwracający kolejne sumy elementów z podanego obiektu iterowalnego.\n",
        "'''"
      ]
    },
    {
      "cell_type": "code",
      "execution_count": 76,
      "metadata": {
        "id": "VT35fN0BeYCE",
        "outputId": "c905989d-379c-4f8e-cceb-d5ec78c66ff9",
        "colab": {
          "base_uri": "https://localhost:8080/"
        }
      },
      "outputs": [
        {
          "output_type": "stream",
          "name": "stdout",
          "text": [
            "1\n",
            "3\n",
            "6\n",
            "10\n",
            "15\n"
          ]
        }
      ],
      "source": [
        "def accumulate(iterable_object):\n",
        "    total = 0\n",
        "    for element in iterable_object:\n",
        "        total += element\n",
        "        yield total\n",
        "\n",
        "for val in accumulate((1,2,3,4,5)):\n",
        "    print(val)"
      ]
    },
    {
      "cell_type": "code",
      "execution_count": 77,
      "metadata": {
        "id": "Ey9qS_x9eYCE",
        "outputId": "5dee6a62-c21c-40b0-f2e6-e02f8e2086f6",
        "colab": {
          "base_uri": "https://localhost:8080/"
        }
      },
      "outputs": [
        {
          "output_type": "stream",
          "name": "stdout",
          "text": [
            "1\n",
            "3\n"
          ]
        }
      ],
      "source": [
        "my_gen = accumulate([1,2,3,4,5])\n",
        "print(next(my_gen))\n",
        "print(next(my_gen))"
      ]
    },
    {
      "cell_type": "code",
      "execution_count": 78,
      "metadata": {
        "id": "QkIbdU4UeYCF",
        "outputId": "989c0b43-766c-40d9-e260-f594de8ea8c1",
        "colab": {
          "base_uri": "https://localhost:8080/"
        }
      },
      "outputs": [
        {
          "output_type": "stream",
          "name": "stdout",
          "text": [
            "6\n"
          ]
        }
      ],
      "source": [
        "print(next(my_gen))"
      ]
    },
    {
      "cell_type": "code",
      "execution_count": 79,
      "metadata": {
        "id": "ffhbiOTJVnmB",
        "colab": {
          "base_uri": "https://localhost:8080/",
          "height": 35
        },
        "outputId": "27a020a2-89dd-4a0c-f637-257fe0e0f0dd"
      },
      "outputs": [
        {
          "output_type": "execute_result",
          "data": {
            "text/plain": [
              "'\\nZadanie 3\\n\\nNapisz własny dekorator o nazwie hello. Wynikiem jego działania powinno być:\\n• wypisanie na ekranie napisu hello\\n• wywołanie funkcji przekazanej jako argument.\\n'"
            ],
            "application/vnd.google.colaboratory.intrinsic+json": {
              "type": "string"
            }
          },
          "metadata": {},
          "execution_count": 79
        }
      ],
      "source": [
        "'''\n",
        "Zadanie 3\n",
        "\n",
        "Napisz własny dekorator o nazwie hello. Wynikiem jego działania powinno być:\n",
        "• wypisanie na ekranie napisu hello\n",
        "• wywołanie funkcji przekazanej jako argument.\n",
        "'''"
      ]
    },
    {
      "cell_type": "code",
      "execution_count": 80,
      "metadata": {
        "id": "QeJ0Fn5CeYCF",
        "outputId": "75234f65-a76e-4360-ea50-72cfdfe26ac5",
        "colab": {
          "base_uri": "https://localhost:8080/"
        }
      },
      "outputs": [
        {
          "output_type": "stream",
          "name": "stdout",
          "text": [
            "Hello\n",
            "Nice to meet you Dominika\n"
          ]
        }
      ],
      "source": [
        "def hello(my_function):\n",
        "    def wrapper(*args, **kwargs):\n",
        "        print(\"Hello\")\n",
        "        return my_function(*args, **kwargs)\n",
        "    return wrapper\n",
        "\n",
        "\n",
        "@hello\n",
        "def greet(name):\n",
        "    print(f\"Nice to meet you {name}\")\n",
        "\n",
        "greet(\"Dominika\")"
      ]
    },
    {
      "cell_type": "code",
      "execution_count": 81,
      "metadata": {
        "id": "NjZRSS6sVrm5",
        "outputId": "28d2fe8b-4e99-48a5-b781-7bc8b19d57b4",
        "colab": {
          "base_uri": "https://localhost:8080/"
        }
      },
      "outputs": [
        {
          "output_type": "stream",
          "name": "stdout",
          "text": [
            "15\n"
          ]
        }
      ],
      "source": [
        "'''\n",
        "Zadanie 4\n",
        "Zaimplementuj własną funkcję o nazwie tetranacci, zwracający określony element ciągu Tetranacciego.\n",
        "Funkcja powinna posiadać parametr o nazwie n określający numer wyrazu ciągu do obliczenia.\n",
        "Obliczenia wykonuj rekurencyjnie.\n",
        "'''\n",
        "\n",
        "def tetranacci(n):\n",
        "    if n == 1 or n == 2 or n == 3:\n",
        "        return 0\n",
        "    elif n == 4:\n",
        "        return 1\n",
        "    else:\n",
        "        return tetranacci(n-1) + tetranacci(n-2) + tetranacci(n-3) + tetranacci(n-4)\n",
        "\n",
        "print(tetranacci(9))"
      ]
    },
    {
      "cell_type": "markdown",
      "metadata": {
        "id": "eDFgAg3cWRAk"
      },
      "source": [
        "## klasy"
      ]
    },
    {
      "cell_type": "code",
      "execution_count": 82,
      "metadata": {
        "id": "LMrKGhhSWMM8",
        "outputId": "582e3511-a51c-4390-9d71-754e82937a09",
        "colab": {
          "base_uri": "https://localhost:8080/"
        }
      },
      "outputs": [
        {
          "output_type": "stream",
          "name": "stdout",
          "text": [
            "240\n",
            "50\n"
          ]
        }
      ],
      "source": [
        "'''\n",
        "Zadanie 5\n",
        "Stwórz klasę Pojazd z atrybutami predkosc_max i przebieg\n",
        "stwórz instancję klasy i wydrukuj jej atrybuty do konsoli\n",
        "tworzac instancję możesz podać dowolne wielkości\n",
        "'''\n",
        "\n",
        "class Pojazd:\n",
        "    def __init__(self, predkosc_max, przebieg):\n",
        "        self.predkosc_max = predkosc_max\n",
        "        self.przebieg = przebieg\n",
        "\n",
        "pojazd1 = Pojazd(240, 50)\n",
        "pojazd2 = Pojazd(180, 17)\n",
        "print(pojazd1.predkosc_max)\n",
        "print(pojazd1.przebieg)\n"
      ]
    },
    {
      "cell_type": "code",
      "execution_count": 83,
      "metadata": {
        "id": "z_dYT1f5Wexv",
        "outputId": "27d42795-5de6-476f-e6a6-c3867cfd8451",
        "colab": {
          "base_uri": "https://localhost:8080/"
        }
      },
      "outputs": [
        {
          "output_type": "stream",
          "name": "stdout",
          "text": [
            "300\n",
            "Autobus XYZ\n"
          ]
        }
      ],
      "source": [
        "'''\n",
        "Zadanie 6\n",
        "Stwórz klasę Autobus, która dziedziczy po Pojeździe utworzonym wcześniej,\n",
        "ale do atrybutów Pojazdu dodaj jeszcze nazwę modelu\n",
        "stwórz instancję klasy i wydrukuj jej atrybuty\n",
        "'''\n",
        "\n",
        "class Autobus(Pojazd):\n",
        "    def __init__(self, predkosc_max, przebieg, nazwa_modelu):\n",
        "        super().__init__(predkosc_max, przebieg)\n",
        "        self.nazwa_modelu = nazwa_modelu\n",
        "\n",
        "autobus1 = Autobus(300, 20, \"Autobus XYZ\")\n",
        "print(autobus1.predkosc_max)\n",
        "print(autobus1.nazwa_modelu)"
      ]
    },
    {
      "cell_type": "code",
      "execution_count": 84,
      "metadata": {
        "id": "CDj9cBQoWj-v",
        "colab": {
          "base_uri": "https://localhost:8080/",
          "height": 53
        },
        "outputId": "d521ad73-04b0-4aea-c046-b5af502e5e03"
      },
      "outputs": [
        {
          "output_type": "execute_result",
          "data": {
            "text/plain": [
              "'\\nZadanie 7\\nklasie Pojazd utwórz metodę liczba_miejsc, która będzie przyjmowała jako argument liczbę miejsc i wyświetlała komunikat:\\n\"{TU WSTAWIMY NAZWE POJAZDU} pomieści {LICZBA MIEJSC} osób.\"\\nKlasa Autobus ma też dziedziczyć tę metodę, ale dodatkowo przyjmować wartość domyślną dla liczby miejsc = 50\\nUtwórz instancję klasy aby zaprezentować działanie\\n'"
            ],
            "application/vnd.google.colaboratory.intrinsic+json": {
              "type": "string"
            }
          },
          "metadata": {},
          "execution_count": 84
        }
      ],
      "source": [
        "'''\n",
        "Zadanie 7\n",
        "klasie Pojazd utwórz metodę liczba_miejsc, która będzie przyjmowała jako argument liczbę miejsc i wyświetlała komunikat:\n",
        "\"{TU WSTAWIMY NAZWE POJAZDU} pomieści {LICZBA MIEJSC} osób.\"\n",
        "Klasa Autobus ma też dziedziczyć tę metodę, ale dodatkowo przyjmować wartość domyślną dla liczby miejsc = 50\n",
        "Utwórz instancję klasy aby zaprezentować działanie\n",
        "'''"
      ]
    },
    {
      "cell_type": "code",
      "execution_count": 85,
      "metadata": {
        "colab": {
          "base_uri": "https://localhost:8080/"
        },
        "id": "PLbuYWU2eYCG",
        "outputId": "65c1fd5e-e49c-4996-80d8-76b702d04241"
      },
      "outputs": [
        {
          "output_type": "stream",
          "name": "stdout",
          "text": [
            "Autobus XYZ pomieści 6 osób.\n",
            "Autobus XYZ pomieści 20 osób.\n",
            "Pojazd XYZ pomieści 20 osób.\n",
            "Pojazd XYZ pomieści 3 osób.\n"
          ]
        }
      ],
      "source": [
        "class Pojazd:\n",
        "    def __init__(self, predkosc_max, przebieg, nazwa_modelu):\n",
        "        self.predkosc_max = predkosc_max\n",
        "        self.przebieg = przebieg\n",
        "        self.nazwa_modelu = nazwa_modelu\n",
        "\n",
        "    def liczba_miejsc(self, miejsca):\n",
        "        return f\"{self.nazwa_modelu} pomieści {miejsca} osób.\"\n",
        "\n",
        "\n",
        "class Autobus(Pojazd):\n",
        "    def liczba_miejsc(self, miejsca=50):\n",
        "        return super().liczba_miejsc(miejsca)\n",
        "\n",
        "autobus1 = Autobus(300, 20, \"Autobus XYZ\")\n",
        "pojazd1 = Pojazd(300, 20, \"Pojazd XYZ\")\n",
        "print(autobus1.liczba_miejsc(6))\n",
        "print(autobus1.liczba_miejsc(20))\n",
        "print(pojazd1.liczba_miejsc(20))\n",
        "print(pojazd1.liczba_miejsc(3))\n"
      ]
    },
    {
      "cell_type": "code",
      "execution_count": 86,
      "metadata": {
        "id": "y2s80EMmWrKP",
        "outputId": "e7db5c3b-cbd8-4db4-d29e-5ffd87525645",
        "colab": {
          "base_uri": "https://localhost:8080/"
        }
      },
      "outputs": [
        {
          "output_type": "stream",
          "name": "stdout",
          "text": [
            "True\n",
            "True\n",
            "False\n"
          ]
        }
      ],
      "source": [
        "'''\n",
        "Zadanie 8\n",
        "Sprawdź czy obiekt autobus jest instancją klasy Pojazd\n",
        "'''\n",
        "print(isinstance(autobus1, Pojazd))\n",
        "print(isinstance(autobus1, Autobus))\n",
        "print(isinstance(pojazd1, Autobus))"
      ]
    },
    {
      "cell_type": "markdown",
      "metadata": {
        "id": "jjNBmv7pVwP_"
      },
      "source": [
        "## PRACA DOMOWA (15 pkt)"
      ]
    },
    {
      "cell_type": "code",
      "execution_count": 87,
      "metadata": {
        "id": "TTUMq_uuVx32",
        "colab": {
          "base_uri": "https://localhost:8080/"
        },
        "outputId": "5b41f1ad-7bb2-49c2-cfa7-7ba954e9fc50"
      },
      "outputs": [
        {
          "output_type": "stream",
          "name": "stdout",
          "text": [
            "29\n"
          ]
        }
      ],
      "source": [
        "'''\n",
        "Zadanie 1 (4 pkt)\n",
        "Wykorzystując dekoratory, napisz cache dla funkcji tetranacci z poprzedniego zadania.\n",
        "Ten dekorator powinien zapobiegać przed ponownym obliczaniem tych samych wartości.\n",
        "'''\n",
        "cache = {}\n",
        "def decor(func):\n",
        "  def inner(*args):\n",
        "    if args[0] in cache:\n",
        "      return cache[args[0]]\n",
        "    else:\n",
        "      a = func(args[0])\n",
        "      cache[args[0]] = a\n",
        "      return a\n",
        "  return inner\n",
        "\n",
        "@decor\n",
        "def tetranacci(n):\n",
        "    if n == 1 or n == 2 or n == 3:\n",
        "        return 0\n",
        "    elif n == 4:\n",
        "        return 1\n",
        "    else:\n",
        "        return tetranacci(n-1) + tetranacci(n-2) + tetranacci(n-3) + tetranacci(n-4)\n",
        "\n",
        "print(tetranacci(10))"
      ]
    },
    {
      "cell_type": "code",
      "source": [
        "cache"
      ],
      "metadata": {
        "colab": {
          "base_uri": "https://localhost:8080/"
        },
        "id": "ezC--y8Xd_3K",
        "outputId": "604b0f11-cdae-4e6d-9ab4-df8e334d8c25"
      },
      "execution_count": 88,
      "outputs": [
        {
          "output_type": "execute_result",
          "data": {
            "text/plain": [
              "{4: 1, 3: 0, 2: 0, 1: 0, 5: 1, 6: 2, 7: 4, 8: 8, 9: 15, 10: 29}"
            ]
          },
          "metadata": {},
          "execution_count": 88
        }
      ]
    },
    {
      "cell_type": "code",
      "execution_count": null,
      "metadata": {
        "id": "Q_Ur2Z9uWF-l"
      },
      "outputs": [],
      "source": [
        "'''\n",
        "Zadanie 2 (4 pkt)\n",
        "Zaimplementuj własny generator o nazwie repeat, zwracający obiekt podany przez użytkownika dokładnie N razy.\n",
        "Jeśli wartość parametru N nie została określona, generator powinien zwracać wartości w nieskończoność.\n",
        "\n",
        "PRZYKŁAD\n",
        "repeat(10, 3) → 10 10 10\n",
        "repeat(10, 5) → 10 10 10 10 10\n",
        "repeat(5) → 5 5 5 5 5 5 5 5 5 5 5 5 5 5 5…\n",
        "repeat(5, None) → 5 5 5 5 5 5 5 5 5 5 5 5 5 5 5…\n",
        "'''"
      ]
    },
    {
      "cell_type": "code",
      "source": [
        "def repeat(x, y):\n",
        "  i = 0\n",
        "  while y is None or i < y:\n",
        "    yield x\n",
        "    i += 1\n",
        "gen = repeat(5, 2)\n",
        "\n",
        "for value in gen:\n",
        "  print(value)"
      ],
      "metadata": {
        "id": "pidiharUiS28",
        "colab": {
          "base_uri": "https://localhost:8080/"
        },
        "outputId": "1616a354-4105-4e6c-b262-8924d99df0eb"
      },
      "execution_count": 90,
      "outputs": [
        {
          "output_type": "stream",
          "name": "stdout",
          "text": [
            "5\n",
            "5\n"
          ]
        }
      ]
    },
    {
      "cell_type": "code",
      "execution_count": null,
      "metadata": {
        "id": "gChh80FsWzT7"
      },
      "outputs": [],
      "source": [
        "'''\n",
        "Zadanie 3 (1 pkt)\n",
        "W kodzie z zajęć w klasie Pojazd utwórz atrybut, który niezależnie od utworzonego obiektu będzie miał taką samą wartość.\n",
        "każdy obiekt ma mieć kolor biały\n",
        "'''"
      ]
    },
    {
      "cell_type": "code",
      "source": [
        "class Pojazd:\n",
        "    def __init__(self, predkosc_max, przebieg, nazwa_modelu, kolor = \"biały\"):\n",
        "        self.predkosc_max = predkosc_max\n",
        "        self.przebieg = przebieg\n",
        "        self.nazwa_modelu = nazwa_modelu\n",
        "        self.kolor = kolor\n",
        "\n",
        "autko = Pojazd(270, 180000, \"Fiat 126p\")\n",
        "autko.kolor"
      ],
      "metadata": {
        "id": "V2lHc_jDiq38",
        "colab": {
          "base_uri": "https://localhost:8080/",
          "height": 35
        },
        "outputId": "90bb943c-933e-4dbf-e2a1-90effadd5b7c"
      },
      "execution_count": 92,
      "outputs": [
        {
          "output_type": "execute_result",
          "data": {
            "text/plain": [
              "'biały'"
            ],
            "application/vnd.google.colaboratory.intrinsic+json": {
              "type": "string"
            }
          },
          "metadata": {},
          "execution_count": 92
        }
      ]
    },
    {
      "cell_type": "code",
      "execution_count": null,
      "metadata": {
        "id": "Q4Js_zjIXHZi"
      },
      "outputs": [],
      "source": [
        "'''\n",
        "Zadanie 4 (2 pkt)\n",
        "Wykorzystaj klasy Autobus i Pojazd.\n",
        "Zdefiniuj metodę opłata, k†óra będzie miała wartość domyślną liczba_miejsc * 100\n",
        "Jeżeli Pojazd jest instancją Autobusu, opłata ma zostać powiększona o 10% wartości opłaty początkowej.\n",
        "Np. jeżeli autobus domyślnie ma 50 miejsc to opłata całkowita wyniesie 5500\n",
        "'''"
      ]
    },
    {
      "cell_type": "code",
      "source": [
        "class Pojazd:\n",
        "    def __init__(self, predkosc_max, przebieg, nazwa_modelu):\n",
        "      self.predkosc_max = predkosc_max\n",
        "      self.przebieg = przebieg\n",
        "      self.nazwa_modelu = nazwa_modelu\n",
        "\n",
        "    def liczba_miejsc(self, miejsca):\n",
        "      return f\"{self.nazwa_modelu} pomieści {miejsca} osób.\"\n",
        "\n",
        "    def opłata(self, miejsca):\n",
        "      return f\"Opłata całkowita wyniosi {miejsca*100}\"\n",
        "\n",
        "\n",
        "class Autobus(Pojazd):\n",
        "    def liczba_miejsc(self, miejsca=50):\n",
        "      return super().liczba_miejsc(miejsca)\n",
        "\n",
        "    def opłata(self, miejsca):\n",
        "      return f\"Opłata całkowita wyniosi {miejsca*110}\"\n",
        "\n",
        "bus = Autobus(2, 2, 2)\n",
        "print(bus.opłata(2))"
      ],
      "metadata": {
        "id": "V7Zah_YHiriD",
        "colab": {
          "base_uri": "https://localhost:8080/"
        },
        "outputId": "d74b5049-21fb-4db5-d0ba-2bd01e48c0c9"
      },
      "execution_count": 94,
      "outputs": [
        {
          "output_type": "stream",
          "name": "stdout",
          "text": [
            "Opłata całkowita wyniosi 220\n"
          ]
        }
      ]
    },
    {
      "cell_type": "code",
      "execution_count": 95,
      "metadata": {
        "id": "BsdImsIAXXsu",
        "colab": {
          "base_uri": "https://localhost:8080/"
        },
        "outputId": "316dda40-84ae-48d9-8d80-87f2ae926167"
      },
      "outputs": [
        {
          "output_type": "stream",
          "name": "stdout",
          "text": [
            "2x^2+3x+1\n",
            "1\n",
            "6\n",
            "Nieskończoność miejsc zerowych\n",
            "Brak miejsc zerowych\n",
            "Miejsce zerowe wynosi -1.5\n",
            "Brak miejsc zerowych\n",
            "Miejsca zerowe wynoszą 2.0 i 3.0\n",
            "Miejsce zerowe wynosi -2.0\n"
          ]
        }
      ],
      "source": [
        "'''\n",
        "Zadanie 5 (4 pkt)\n",
        "Napisz klasę FunkcjaKwadratowa, która przechowuje funkcje typu $ax^2$+bx+c.\n",
        "Klasa powinna zawierać trzy pola: a, b, c, które są przypisywane w konstruktorze.\n",
        "Główną metodą powinna być rozwiaz(), która zwraca miejsca zerowe podanej funkcji.\n",
        "Należy zwrócić uwagę na przypadki gdy a=0, b=0 lub c=0,\n",
        "a także obmyślić sposób informowania o nieskończonej liczbie, jednym lub zerze rozwiązań.\n",
        "'''\n",
        "\n",
        "'''\n",
        "początek kodu dla ułatwienia\n",
        "\n",
        "'''\n",
        "import math\n",
        "\n",
        "class FunkcjaKwadratowa:\n",
        "    def __init__(self, a, b, c):\n",
        "      self.a = a\n",
        "      self.b = b\n",
        "      self.c = c\n",
        "      self.wynik = \"\"\n",
        "\n",
        "    def wypisz(self):\n",
        "      print(f\"{self.a}x^2+{self.b}x+{self.c}\")\n",
        "\n",
        "    def oblicz_wartosc(self, x):\n",
        "      wartość = self.a*x**2+self.b*x+self.c\n",
        "      return wartość\n",
        "\n",
        "    def rozwiaz(self):\n",
        "      if self.a == 0:\n",
        "        if self.b == 0:\n",
        "          if self.c == 0:\n",
        "            self.wynik = \"Nieskończoność miejsc zerowych\"\n",
        "          else:\n",
        "            self.wynik = \"Brak miejsc zerowych\"\n",
        "        else:\n",
        "          miejsce_zerowe = -self.c/self.b\n",
        "          self.wynik = f\"Miejsce zerowe wynosi {miejsce_zerowe}\"\n",
        "      else:\n",
        "        delta = self.b*self.b - 4*self.a*self.c\n",
        "        sqrtdelta = math.sqrt(abs(delta))\n",
        "        if delta < 0:\n",
        "          self.wynik = \"Brak miejsc zerowych\"\n",
        "        elif delta == 0:\n",
        "          miejsce_zerowe = -self.b / 2*self.a\n",
        "          self.wynik = f\"Miejsce zerowe wynosi {miejsce_zerowe}\"\n",
        "        else:\n",
        "          miejsce_zerowe1 = (-self.b-sqrtdelta)/2*self.a\n",
        "          miejsce_zerowe2 = (-self.b+sqrtdelta)/2*self.a\n",
        "          self.wynik = f\"Miejsca zerowe wynoszą {miejsce_zerowe1} i {miejsce_zerowe2}\"\n",
        "      return self.wynik\n",
        "\n",
        "def main():\n",
        "    f1 = FunkcjaKwadratowa(2, 3, 1)\n",
        "    f1.wypisz()\n",
        "    print(f1.oblicz_wartosc(0))\n",
        "    print(f1.oblicz_wartosc(1))\n",
        "\n",
        "    print(FunkcjaKwadratowa(0, 0, 0).rozwiaz())\n",
        "    print(FunkcjaKwadratowa(0, 0, 1).rozwiaz())\n",
        "    print(FunkcjaKwadratowa(0, 2, 3).rozwiaz())\n",
        "    print(FunkcjaKwadratowa(1, 2, 3).rozwiaz())\n",
        "    print(FunkcjaKwadratowa(1, -5, 6).rozwiaz())\n",
        "    print(FunkcjaKwadratowa(1, 4, 4).rozwiaz())\n",
        "\n",
        "if __name__ == \"__main__\":\n",
        "    main()"
      ]
    }
  ],
  "metadata": {
    "colab": {
      "provenance": [],
      "include_colab_link": true
    },
    "kernelspec": {
      "display_name": "Python 3",
      "name": "python3"
    },
    "language_info": {
      "codemirror_mode": {
        "name": "ipython",
        "version": 3
      },
      "file_extension": ".py",
      "mimetype": "text/x-python",
      "name": "python",
      "nbconvert_exporter": "python",
      "pygments_lexer": "ipython3",
      "version": "3.10.9"
    }
  },
  "nbformat": 4,
  "nbformat_minor": 0
}